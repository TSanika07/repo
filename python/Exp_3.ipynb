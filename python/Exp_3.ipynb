{
 "cells": [
  {
   "cell_type": "markdown",
   "id": "79883704",
   "metadata": {},
   "source": [
    "# EXPRIMENT NO 3\n",
    "## SANIKA DHANAJI TILAWE\n",
    "### 3/5/2023\n",
    "### INPUT/OUTPUT , FORMAT"
   ]
  },
  {
   "cell_type": "markdown",
   "id": "3a6e6636",
   "metadata": {},
   "source": [
    "### input /output"
   ]
  },
  {
   "cell_type": "code",
   "execution_count": 4,
   "id": "6b56f8db",
   "metadata": {},
   "outputs": [
    {
     "name": "stdout",
     "output_type": "stream",
     "text": [
      "hi\n"
     ]
    }
   ],
   "source": [
    "print('hi')"
   ]
  },
  {
   "cell_type": "code",
   "execution_count": 5,
   "id": "e22ed159",
   "metadata": {},
   "outputs": [],
   "source": [
    "a=10"
   ]
  },
  {
   "cell_type": "code",
   "execution_count": 6,
   "id": "5c55df72",
   "metadata": {},
   "outputs": [
    {
     "data": {
      "text/plain": [
       "10"
      ]
     },
     "execution_count": 6,
     "metadata": {},
     "output_type": "execute_result"
    }
   ],
   "source": [
    "a"
   ]
  },
  {
   "cell_type": "code",
   "execution_count": 7,
   "id": "67f2b11b",
   "metadata": {},
   "outputs": [],
   "source": [
    "a=10"
   ]
  },
  {
   "cell_type": "code",
   "execution_count": 8,
   "id": "a767cbf7",
   "metadata": {},
   "outputs": [],
   "source": [
    "b=20"
   ]
  },
  {
   "cell_type": "code",
   "execution_count": 9,
   "id": "a606a583",
   "metadata": {},
   "outputs": [
    {
     "name": "stdout",
     "output_type": "stream",
     "text": [
      "30\n"
     ]
    }
   ],
   "source": [
    "print(a+b)"
   ]
  },
  {
   "cell_type": "code",
   "execution_count": 10,
   "id": "b540e761",
   "metadata": {},
   "outputs": [
    {
     "name": "stdout",
     "output_type": "stream",
     "text": [
      "value of a 10\n"
     ]
    }
   ],
   "source": [
    "print('value of a', a)"
   ]
  },
  {
   "cell_type": "code",
   "execution_count": 1,
   "id": "a3890d23",
   "metadata": {},
   "outputs": [
    {
     "name": "stdout",
     "output_type": "stream",
     "text": [
      "enter the value of a:10\n"
     ]
    },
    {
     "data": {
      "text/plain": [
       "'10'"
      ]
     },
     "execution_count": 1,
     "metadata": {},
     "output_type": "execute_result"
    }
   ],
   "source": [
    "input('enter the value of a:')"
   ]
  },
  {
   "cell_type": "code",
   "execution_count": 12,
   "id": "71c196b6",
   "metadata": {},
   "outputs": [
    {
     "name": "stdout",
     "output_type": "stream",
     "text": [
      "enter the name:sanika\n"
     ]
    },
    {
     "data": {
      "text/plain": [
       "'sanika'"
      ]
     },
     "execution_count": 12,
     "metadata": {},
     "output_type": "execute_result"
    }
   ],
   "source": [
    "input('enter the name:')"
   ]
  },
  {
   "cell_type": "code",
   "execution_count": 13,
   "id": "8a52ecda",
   "metadata": {},
   "outputs": [
    {
     "name": "stdout",
     "output_type": "stream",
     "text": [
      "enter a value:\n",
      "enter b value:8\n"
     ]
    },
    {
     "data": {
      "text/plain": [
       "'8'"
      ]
     },
     "execution_count": 13,
     "metadata": {},
     "output_type": "execute_result"
    }
   ],
   "source": [
    "input('enter a value:')\n",
    "input('enter b value:')"
   ]
  },
  {
   "cell_type": "code",
   "execution_count": 14,
   "id": "290a1f6b",
   "metadata": {},
   "outputs": [
    {
     "name": "stdout",
     "output_type": "stream",
     "text": [
      "30\n"
     ]
    }
   ],
   "source": [
    "print(a+b)"
   ]
  },
  {
   "cell_type": "code",
   "execution_count": 15,
   "id": "3f76e1b3",
   "metadata": {},
   "outputs": [
    {
     "name": "stdout",
     "output_type": "stream",
     "text": [
      "enter value of a:9\n"
     ]
    },
    {
     "data": {
      "text/plain": [
       "'9'"
      ]
     },
     "execution_count": 15,
     "metadata": {},
     "output_type": "execute_result"
    }
   ],
   "source": [
    "input('enter value of a:')"
   ]
  },
  {
   "cell_type": "code",
   "execution_count": 16,
   "id": "44d2f7ec",
   "metadata": {},
   "outputs": [
    {
     "name": "stdout",
     "output_type": "stream",
     "text": [
      "Enter the value of a:8\n",
      "Enter the value of b:0\n",
      "30\n"
     ]
    }
   ],
   "source": [
    "input('Enter the value of a:')\n",
    "input('Enter the value of b:')\n",
    "print(a+b)"
   ]
  },
  {
   "cell_type": "code",
   "execution_count": 17,
   "id": "53fc3716",
   "metadata": {},
   "outputs": [
    {
     "name": "stdout",
     "output_type": "stream",
     "text": [
      "Enter the value of a:5\n",
      "Enter the value of b:6\n",
      "56\n"
     ]
    }
   ],
   "source": [
    "a=input('Enter the value of a:')\n",
    "b=input('Enter the value of b:')\n",
    "print(a+b)"
   ]
  },
  {
   "cell_type": "code",
   "execution_count": 18,
   "id": "3dea3666",
   "metadata": {},
   "outputs": [
    {
     "name": "stdout",
     "output_type": "stream",
     "text": [
      "value of x:7\n"
     ]
    }
   ],
   "source": [
    "x=100\n",
    "a=input('value of x:')"
   ]
  },
  {
   "cell_type": "code",
   "execution_count": 19,
   "id": "37058383",
   "metadata": {},
   "outputs": [
    {
     "name": "stdout",
     "output_type": "stream",
     "text": [
      "value of x:5\n",
      "value of y:4\n"
     ]
    },
    {
     "data": {
      "text/plain": [
       "'54'"
      ]
     },
     "execution_count": 19,
     "metadata": {},
     "output_type": "execute_result"
    }
   ],
   "source": [
    "a=input('value of x:')\n",
    "b=input('value of y:')\n",
    "c=a+b\n",
    "c"
   ]
  },
  {
   "cell_type": "code",
   "execution_count": 20,
   "id": "38a8bb6a",
   "metadata": {},
   "outputs": [
    {
     "name": "stdout",
     "output_type": "stream",
     "text": [
      "Enter value of x:4\n",
      "Enter value of y:5\n"
     ]
    }
   ],
   "source": [
    "a=int(input('Enter value of x:'))\n",
    "b=int(input('Enter value of y:'))\n",
    "c=a+b"
   ]
  },
  {
   "cell_type": "code",
   "execution_count": 21,
   "id": "f6b7e098",
   "metadata": {},
   "outputs": [
    {
     "data": {
      "text/plain": [
       "9"
      ]
     },
     "execution_count": 21,
     "metadata": {},
     "output_type": "execute_result"
    }
   ],
   "source": [
    "c"
   ]
  },
  {
   "cell_type": "code",
   "execution_count": 24,
   "id": "4c36b327",
   "metadata": {},
   "outputs": [
    {
     "name": "stdout",
     "output_type": "stream",
     "text": [
      "Enter the value of a:9\n",
      "enter the value of b:0\n"
     ]
    }
   ],
   "source": [
    "p=float(input('Enter the value of a:'))\n",
    "q=float(input('enter the value of b:'))\n",
    "r=p*q"
   ]
  },
  {
   "cell_type": "raw",
   "id": "8811c7d0",
   "metadata": {},
   "source": [
    "r"
   ]
  },
  {
   "cell_type": "code",
   "execution_count": 25,
   "id": "7ec3f8c7",
   "metadata": {},
   "outputs": [
    {
     "data": {
      "text/plain": [
       "0.0"
      ]
     },
     "execution_count": 25,
     "metadata": {},
     "output_type": "execute_result"
    }
   ],
   "source": [
    "r"
   ]
  },
  {
   "cell_type": "code",
   "execution_count": 23,
   "id": "78559abf",
   "metadata": {},
   "outputs": [
    {
     "name": "stdout",
     "output_type": "stream",
     "text": [
      "value of a:56\n",
      "value of b:4\n"
     ]
    }
   ],
   "source": [
    "x=int(input('value of a:'))\n",
    "y=int(input('value of b:'))\n",
    "z=x/y"
   ]
  },
  {
   "cell_type": "code",
   "execution_count": 24,
   "id": "6bcf849f",
   "metadata": {},
   "outputs": [
    {
     "data": {
      "text/plain": [
       "14.0"
      ]
     },
     "execution_count": 24,
     "metadata": {},
     "output_type": "execute_result"
    }
   ],
   "source": [
    "z"
   ]
  },
  {
   "cell_type": "markdown",
   "id": "1fa4dbef",
   "metadata": {},
   "source": [
    "### format"
   ]
  },
  {
   "cell_type": "code",
   "execution_count": 25,
   "id": "0b05b4c2",
   "metadata": {},
   "outputs": [
    {
     "data": {
      "text/plain": [
       "'Hello, my name is SANIKA and my number is 56 '"
      ]
     },
     "execution_count": 25,
     "metadata": {},
     "output_type": "execute_result"
    }
   ],
   "source": [
    "'Hello, my name is SANIKA and my number is 56 '"
   ]
  },
  {
   "cell_type": "code",
   "execution_count": 26,
   "id": "5d3a4e83",
   "metadata": {},
   "outputs": [],
   "source": [
    "a='SANIKA'"
   ]
  },
  {
   "cell_type": "code",
   "execution_count": 27,
   "id": "febe6a27",
   "metadata": {},
   "outputs": [],
   "source": [
    "b=56"
   ]
  },
  {
   "cell_type": "code",
   "execution_count": 28,
   "id": "fd780a4b",
   "metadata": {},
   "outputs": [
    {
     "data": {
      "text/plain": [
       "'Hello, my name is{}and my number is{}'"
      ]
     },
     "execution_count": 28,
     "metadata": {},
     "output_type": "execute_result"
    }
   ],
   "source": [
    "'Hello, my name is{}and my number is{}'"
   ]
  },
  {
   "cell_type": "code",
   "execution_count": 29,
   "id": "f4d9ef3f",
   "metadata": {},
   "outputs": [
    {
     "data": {
      "text/plain": [
       "'Hello, my name is SANIKA and my number is 56 '"
      ]
     },
     "execution_count": 29,
     "metadata": {},
     "output_type": "execute_result"
    }
   ],
   "source": [
    "'Hello, my name is {} and my number is {} '.format(a,b)"
   ]
  },
  {
   "cell_type": "code",
   "execution_count": 30,
   "id": "6f99ac3d",
   "metadata": {},
   "outputs": [
    {
     "data": {
      "text/plain": [
       "'Hello my name is 56 and my number is SANIKA'"
      ]
     },
     "execution_count": 30,
     "metadata": {},
     "output_type": "execute_result"
    }
   ],
   "source": [
    "'Hello my name is {} and my number is {}'.format(b,a)"
   ]
  },
  {
   "cell_type": "code",
   "execution_count": 31,
   "id": "52a23321",
   "metadata": {},
   "outputs": [
    {
     "data": {
      "text/plain": [
       "'We are learning SANIKA'"
      ]
     },
     "execution_count": 31,
     "metadata": {},
     "output_type": "execute_result"
    }
   ],
   "source": [
    "'We are learning {}'.format(a)"
   ]
  },
  {
   "cell_type": "code",
   "execution_count": 32,
   "id": "67916afd",
   "metadata": {},
   "outputs": [
    {
     "ename": "IndexError",
     "evalue": "Replacement index 1 out of range for positional args tuple",
     "output_type": "error",
     "traceback": [
      "\u001b[1;31m---------------------------------------------------------------------------\u001b[0m",
      "\u001b[1;31mIndexError\u001b[0m                                Traceback (most recent call last)",
      "\u001b[1;32m~\\AppData\\Local\\Temp\\ipykernel_1144\\1075460061.py\u001b[0m in \u001b[0;36m<module>\u001b[1;34m\u001b[0m\n\u001b[1;32m----> 1\u001b[1;33m \u001b[1;34m'We are learning {} {}'\u001b[0m\u001b[1;33m.\u001b[0m\u001b[0mformat\u001b[0m\u001b[1;33m(\u001b[0m\u001b[0ma\u001b[0m\u001b[1;33m)\u001b[0m\u001b[1;33m\u001b[0m\u001b[1;33m\u001b[0m\u001b[0m\n\u001b[0m",
      "\u001b[1;31mIndexError\u001b[0m: Replacement index 1 out of range for positional args tuple"
     ]
    }
   ],
   "source": [
    "'We are learning {} {}'.format(a)"
   ]
  },
  {
   "cell_type": "code",
   "execution_count": 33,
   "id": "335f3d18",
   "metadata": {},
   "outputs": [
    {
     "data": {
      "text/plain": [
       "'We are learning SANIKA'"
      ]
     },
     "execution_count": 33,
     "metadata": {},
     "output_type": "execute_result"
    }
   ],
   "source": [
    "'We are learning {}'.format(a,b)"
   ]
  },
  {
   "cell_type": "code",
   "execution_count": 34,
   "id": "bc20cfff",
   "metadata": {},
   "outputs": [
    {
     "data": {
      "text/plain": [
       "'SANIKA'"
      ]
     },
     "execution_count": 34,
     "metadata": {},
     "output_type": "execute_result"
    }
   ],
   "source": [
    "'{}'.format(a)"
   ]
  },
  {
   "cell_type": "code",
   "execution_count": 35,
   "id": "5b118305",
   "metadata": {},
   "outputs": [
    {
     "data": {
      "text/plain": [
       "'Hello, I am SANIKA'"
      ]
     },
     "execution_count": 35,
     "metadata": {},
     "output_type": "execute_result"
    }
   ],
   "source": [
    "'Hello, I am {one}'.format(one=a)"
   ]
  },
  {
   "cell_type": "code",
   "execution_count": 36,
   "id": "daff8947",
   "metadata": {},
   "outputs": [
    {
     "data": {
      "text/plain": [
       "'Hello, I am SANIKA SANIKA SANIKA SANIKA'"
      ]
     },
     "execution_count": 36,
     "metadata": {},
     "output_type": "execute_result"
    }
   ],
   "source": [
    "'Hello, I am {one} {one} {one} {one}'.format(one=a)"
   ]
  },
  {
   "cell_type": "code",
   "execution_count": 37,
   "id": "5720245e",
   "metadata": {},
   "outputs": [
    {
     "ename": "IndexError",
     "evalue": "Replacement index 1 out of range for positional args tuple",
     "output_type": "error",
     "traceback": [
      "\u001b[1;31m---------------------------------------------------------------------------\u001b[0m",
      "\u001b[1;31mIndexError\u001b[0m                                Traceback (most recent call last)",
      "\u001b[1;32m~\\AppData\\Local\\Temp\\ipykernel_1144\\4095048456.py\u001b[0m in \u001b[0;36m<module>\u001b[1;34m\u001b[0m\n\u001b[1;32m----> 1\u001b[1;33m \u001b[1;34m'Hello, I am {} {} {}'\u001b[0m\u001b[1;33m.\u001b[0m\u001b[0mformat\u001b[0m\u001b[1;33m(\u001b[0m\u001b[0ma\u001b[0m\u001b[1;33m)\u001b[0m\u001b[1;33m\u001b[0m\u001b[1;33m\u001b[0m\u001b[0m\n\u001b[0m",
      "\u001b[1;31mIndexError\u001b[0m: Replacement index 1 out of range for positional args tuple"
     ]
    }
   ],
   "source": [
    "'Hello, I am {} {} {}'.format(a)"
   ]
  },
  {
   "cell_type": "code",
   "execution_count": null,
   "id": "36f27133",
   "metadata": {},
   "outputs": [],
   "source": []
  },
  {
   "cell_type": "code",
   "execution_count": null,
   "id": "3dcd83ae",
   "metadata": {},
   "outputs": [],
   "source": []
  }
 ],
 "metadata": {
  "kernelspec": {
   "display_name": "Python 3 (ipykernel)",
   "language": "python",
   "name": "python3"
  },
  "language_info": {
   "codemirror_mode": {
    "name": "ipython",
    "version": 3
   },
   "file_extension": ".py",
   "mimetype": "text/x-python",
   "name": "python",
   "nbconvert_exporter": "python",
   "pygments_lexer": "ipython3",
   "version": "3.9.13"
  }
 },
 "nbformat": 4,
 "nbformat_minor": 5
}
