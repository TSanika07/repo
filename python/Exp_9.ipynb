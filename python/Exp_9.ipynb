{
 "cells": [
  {
   "cell_type": "markdown",
   "id": "a586eb47",
   "metadata": {},
   "source": [
    "# Expriment No 9\n",
    "## Sanika Tilawe\n",
    "### 14/6/2023\n"
   ]
  },
  {
   "cell_type": "markdown",
   "id": "a08dba15",
   "metadata": {},
   "source": [
    "# Count the occurance each word in a given string sentence"
   ]
  },
  {
   "cell_type": "code",
   "execution_count": 1,
   "id": "48ae78e9",
   "metadata": {},
   "outputs": [
    {
     "name": "stdout",
     "output_type": "stream",
     "text": [
      "6\n"
     ]
    }
   ],
   "source": [
    "string = \"I am programmer. I am student.\"\n",
    "word = \"am\"\n",
    "words = string.split()\n",
    "count = 0\n",
    "for w in words:\n",
    "   \n",
    "    count+=1\n",
    "print(count)"
   ]
  },
  {
   "cell_type": "code",
   "execution_count": 2,
   "id": "25392b77",
   "metadata": {},
   "outputs": [
    {
     "name": "stdout",
     "output_type": "stream",
     "text": [
      "12\n"
     ]
    }
   ],
   "source": [
    "string=\"This is a sample Python program, Welcome to World Of Python Programming!\"\n",
    "word=\"Python\"\n",
    "a=string.split()\n",
    "count=0\n",
    "for w in a:\n",
    "   \n",
    "    count+=1\n",
    "print(count)\n"
   ]
  },
  {
   "cell_type": "markdown",
   "id": "e18c7d91",
   "metadata": {},
   "source": [
    "# Two map in Dictionary"
   ]
  },
  {
   "cell_type": "code",
   "execution_count": 10,
   "id": "6b838eef",
   "metadata": {},
   "outputs": [
    {
     "name": "stdout",
     "output_type": "stream",
     "text": [
      "{'red': '#FF0000', 'green': '#008000', 'blue': '#0000FF'}\n"
     ]
    }
   ],
   "source": [
    "keys = ['red', 'green', 'blue']\n",
    "values = ['#FF0000','#008000', '#0000FF']\n",
    "color_dictionary = dict(zip(keys, values))\n",
    "print(color_dictionary)"
   ]
  },
  {
   "cell_type": "code",
   "execution_count": 11,
   "id": "df8995ce",
   "metadata": {},
   "outputs": [
    {
     "name": "stdout",
     "output_type": "stream",
     "text": [
      "{'Sanika': 20, 'Santosh': 18, 'Dhanshree': 17}\n"
     ]
    }
   ],
   "source": [
    "keys=['Sanika','Santosh','Dhanshree']\n",
    "values=[20,18,17]\n",
    "age=dict(zip(keys,values))\n",
    "print(age)"
   ]
  },
  {
   "cell_type": "code",
   "execution_count": null,
   "id": "d272fa8d",
   "metadata": {},
   "outputs": [],
   "source": []
  }
 ],
 "metadata": {
  "kernelspec": {
   "display_name": "Python 3 (ipykernel)",
   "language": "python",
   "name": "python3"
  },
  "language_info": {
   "codemirror_mode": {
    "name": "ipython",
    "version": 3
   },
   "file_extension": ".py",
   "mimetype": "text/x-python",
   "name": "python",
   "nbconvert_exporter": "python",
   "pygments_lexer": "ipython3",
   "version": "3.9.13"
  }
 },
 "nbformat": 4,
 "nbformat_minor": 5
}
