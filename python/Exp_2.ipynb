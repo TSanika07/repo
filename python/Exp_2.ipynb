{
 "cells": [
  {
   "cell_type": "markdown",
   "id": "c0c53c4b",
   "metadata": {},
   "source": [
    "# Experiment No 2\n",
    "## Sanika Dhanaji Tilawe\n",
    "### Indexing\n",
    "### 12/04/2023"
   ]
  },
  {
   "cell_type": "code",
   "execution_count": 3,
   "id": "a9c9ea7c",
   "metadata": {},
   "outputs": [],
   "source": [
    "a='My name is Sanika Tilawe'"
   ]
  },
  {
   "cell_type": "code",
   "execution_count": 4,
   "id": "e52aaaaa",
   "metadata": {},
   "outputs": [
    {
     "data": {
      "text/plain": [
       "str"
      ]
     },
     "execution_count": 4,
     "metadata": {},
     "output_type": "execute_result"
    }
   ],
   "source": [
    "type(a)"
   ]
  },
  {
   "cell_type": "code",
   "execution_count": 5,
   "id": "9b59209e",
   "metadata": {},
   "outputs": [
    {
     "data": {
      "text/plain": [
       "'m'"
      ]
     },
     "execution_count": 5,
     "metadata": {},
     "output_type": "execute_result"
    }
   ],
   "source": [
    "a[5]"
   ]
  },
  {
   "cell_type": "code",
   "execution_count": 6,
   "id": "a77c5c30",
   "metadata": {},
   "outputs": [
    {
     "data": {
      "text/plain": [
       "'y'"
      ]
     },
     "execution_count": 6,
     "metadata": {},
     "output_type": "execute_result"
    }
   ],
   "source": [
    "a[1]"
   ]
  },
  {
   "cell_type": "code",
   "execution_count": 7,
   "id": "26fee495",
   "metadata": {},
   "outputs": [
    {
     "data": {
      "text/plain": [
       "'M'"
      ]
     },
     "execution_count": 7,
     "metadata": {},
     "output_type": "execute_result"
    }
   ],
   "source": [
    "a[0:1]"
   ]
  },
  {
   "cell_type": "code",
   "execution_count": 8,
   "id": "c489f1be",
   "metadata": {},
   "outputs": [
    {
     "data": {
      "text/plain": [
       "'My'"
      ]
     },
     "execution_count": 8,
     "metadata": {},
     "output_type": "execute_result"
    }
   ],
   "source": [
    "a[0:2]"
   ]
  },
  {
   "cell_type": "code",
   "execution_count": 9,
   "id": "797789f4",
   "metadata": {},
   "outputs": [
    {
     "data": {
      "text/plain": [
       "' Tila'"
      ]
     },
     "execution_count": 9,
     "metadata": {},
     "output_type": "execute_result"
    }
   ],
   "source": [
    "a[17:22]"
   ]
  },
  {
   "cell_type": "code",
   "execution_count": 10,
   "id": "9d250255",
   "metadata": {},
   "outputs": [
    {
     "data": {
      "text/plain": [
       "' '"
      ]
     },
     "execution_count": 10,
     "metadata": {},
     "output_type": "execute_result"
    }
   ],
   "source": [
    "a[10]"
   ]
  },
  {
   "cell_type": "code",
   "execution_count": 11,
   "id": "00b423f3",
   "metadata": {},
   "outputs": [
    {
     "ename": "IndexError",
     "evalue": "string index out of range",
     "output_type": "error",
     "traceback": [
      "\u001b[1;31m---------------------------------------------------------------------------\u001b[0m",
      "\u001b[1;31mIndexError\u001b[0m                                Traceback (most recent call last)",
      "\u001b[1;32m~\\AppData\\Local\\Temp\\ipykernel_15092\\3418884185.py\u001b[0m in \u001b[0;36m<module>\u001b[1;34m\u001b[0m\n\u001b[1;32m----> 1\u001b[1;33m \u001b[0ma\u001b[0m\u001b[1;33m[\u001b[0m\u001b[1;36m100\u001b[0m\u001b[1;33m]\u001b[0m\u001b[1;33m\u001b[0m\u001b[1;33m\u001b[0m\u001b[0m\n\u001b[0m",
      "\u001b[1;31mIndexError\u001b[0m: string index out of range"
     ]
    }
   ],
   "source": [
    "a[100]"
   ]
  },
  {
   "cell_type": "code",
   "execution_count": 12,
   "id": "2bb3a3c8",
   "metadata": {},
   "outputs": [
    {
     "data": {
      "text/plain": [
       "'anika Tilawe'"
      ]
     },
     "execution_count": 12,
     "metadata": {},
     "output_type": "execute_result"
    }
   ],
   "source": [
    "a[12:100]"
   ]
  },
  {
   "cell_type": "code",
   "execution_count": 13,
   "id": "1d7d4ae5",
   "metadata": {},
   "outputs": [
    {
     "data": {
      "text/plain": [
       "'My name is Sanika Tilawe'"
      ]
     },
     "execution_count": 13,
     "metadata": {},
     "output_type": "execute_result"
    }
   ],
   "source": [
    "a[0:1000]"
   ]
  },
  {
   "cell_type": "code",
   "execution_count": 14,
   "id": "bf9badcc",
   "metadata": {},
   "outputs": [
    {
     "data": {
      "text/plain": [
       "'My name is S'"
      ]
     },
     "execution_count": 14,
     "metadata": {},
     "output_type": "execute_result"
    }
   ],
   "source": [
    "a[:12]"
   ]
  },
  {
   "cell_type": "code",
   "execution_count": 15,
   "id": "1ad1599a",
   "metadata": {},
   "outputs": [],
   "source": [
    "s='santoshtilawe'"
   ]
  },
  {
   "cell_type": "code",
   "execution_count": 16,
   "id": "55300f7a",
   "metadata": {},
   "outputs": [
    {
     "data": {
      "text/plain": [
       "'santoshtila'"
      ]
     },
     "execution_count": 16,
     "metadata": {},
     "output_type": "execute_result"
    }
   ],
   "source": [
    "s[0:11]"
   ]
  },
  {
   "cell_type": "code",
   "execution_count": 17,
   "id": "c9a06077",
   "metadata": {},
   "outputs": [
    {
     "data": {
      "text/plain": [
       "'snohia'"
      ]
     },
     "execution_count": 17,
     "metadata": {},
     "output_type": "execute_result"
    }
   ],
   "source": [
    "s[0:11:2]"
   ]
  },
  {
   "cell_type": "code",
   "execution_count": 18,
   "id": "1b1c22c1",
   "metadata": {},
   "outputs": [
    {
     "data": {
      "text/plain": [
       "'sthl'"
      ]
     },
     "execution_count": 18,
     "metadata": {},
     "output_type": "execute_result"
    }
   ],
   "source": [
    "s[0:11:3]"
   ]
  },
  {
   "cell_type": "code",
   "execution_count": 19,
   "id": "32b7dae5",
   "metadata": {},
   "outputs": [
    {
     "data": {
      "text/plain": [
       "'My name is Sanika Tilawe'"
      ]
     },
     "execution_count": 19,
     "metadata": {},
     "output_type": "execute_result"
    }
   ],
   "source": [
    "a[:]"
   ]
  },
  {
   "cell_type": "code",
   "execution_count": 20,
   "id": "6a2a4a81",
   "metadata": {},
   "outputs": [
    {
     "data": {
      "text/plain": [
       "'My name is Sanika Tilawe'"
      ]
     },
     "execution_count": 20,
     "metadata": {},
     "output_type": "execute_result"
    }
   ],
   "source": [
    "a[0:]"
   ]
  },
  {
   "cell_type": "code",
   "execution_count": 21,
   "id": "4cdea097",
   "metadata": {},
   "outputs": [],
   "source": [
    "rev=a[::-1]"
   ]
  },
  {
   "cell_type": "code",
   "execution_count": 22,
   "id": "8b80dee0",
   "metadata": {},
   "outputs": [
    {
     "data": {
      "text/plain": [
       "'ewaliT akinaS si eman yM'"
      ]
     },
     "execution_count": 22,
     "metadata": {},
     "output_type": "execute_result"
    }
   ],
   "source": [
    "rev"
   ]
  },
  {
   "cell_type": "code",
   "execution_count": 23,
   "id": "a23dc91d",
   "metadata": {},
   "outputs": [
    {
     "data": {
      "text/plain": [
       "'Sanik'"
      ]
     },
     "execution_count": 23,
     "metadata": {},
     "output_type": "execute_result"
    }
   ],
   "source": [
    "a[11:16]"
   ]
  },
  {
   "cell_type": "code",
   "execution_count": 24,
   "id": "b3f15240",
   "metadata": {},
   "outputs": [
    {
     "data": {
      "text/plain": [
       "'kinaS'"
      ]
     },
     "execution_count": 24,
     "metadata": {},
     "output_type": "execute_result"
    }
   ],
   "source": [
    "a[11:16][::-1]"
   ]
  },
  {
   "cell_type": "code",
   "execution_count": 25,
   "id": "5b2670e7",
   "metadata": {},
   "outputs": [
    {
     "data": {
      "text/plain": [
       "'Sanik'"
      ]
     },
     "execution_count": 25,
     "metadata": {},
     "output_type": "execute_result"
    }
   ],
   "source": [
    "a[11:16][::-1][::-1]"
   ]
  },
  {
   "cell_type": "code",
   "execution_count": 26,
   "id": "5607310a",
   "metadata": {},
   "outputs": [
    {
     "data": {
      "text/plain": [
       "'n'"
      ]
     },
     "execution_count": 26,
     "metadata": {},
     "output_type": "execute_result"
    }
   ],
   "source": [
    "a[11:16][2]"
   ]
  },
  {
   "cell_type": "code",
   "execution_count": 27,
   "id": "d5255771",
   "metadata": {},
   "outputs": [
    {
     "data": {
      "text/plain": [
       "'n'"
      ]
     },
     "execution_count": 27,
     "metadata": {},
     "output_type": "execute_result"
    }
   ],
   "source": [
    "a[13:14]"
   ]
  },
  {
   "cell_type": "code",
   "execution_count": 28,
   "id": "caa56a90",
   "metadata": {},
   "outputs": [
    {
     "data": {
      "text/plain": [
       "'My name is'"
      ]
     },
     "execution_count": 28,
     "metadata": {},
     "output_type": "execute_result"
    }
   ],
   "source": [
    "a[0:10]"
   ]
  },
  {
   "cell_type": "code",
   "execution_count": 29,
   "id": "e8b5e609",
   "metadata": {},
   "outputs": [
    {
     "data": {
      "text/plain": [
       "'M aei'"
      ]
     },
     "execution_count": 29,
     "metadata": {},
     "output_type": "execute_result"
    }
   ],
   "source": [
    "a[0:10:2]"
   ]
  },
  {
   "cell_type": "code",
   "execution_count": 30,
   "id": "b61ac2f3",
   "metadata": {},
   "outputs": [
    {
     "data": {
      "text/plain": [
       "'Snk'"
      ]
     },
     "execution_count": 30,
     "metadata": {},
     "output_type": "execute_result"
    }
   ],
   "source": [
    "a[11:16:2]"
   ]
  },
  {
   "cell_type": "code",
   "execution_count": 31,
   "id": "8171036e",
   "metadata": {},
   "outputs": [
    {
     "data": {
      "text/plain": [
       "' l'"
      ]
     },
     "execution_count": 31,
     "metadata": {},
     "output_type": "execute_result"
    }
   ],
   "source": [
    "a[17:22:3]"
   ]
  },
  {
   "cell_type": "code",
   "execution_count": 32,
   "id": "3c0df9b4",
   "metadata": {},
   "outputs": [
    {
     "data": {
      "text/plain": [
       "'e'"
      ]
     },
     "execution_count": 32,
     "metadata": {},
     "output_type": "execute_result"
    }
   ],
   "source": [
    "a[-1]"
   ]
  },
  {
   "cell_type": "code",
   "execution_count": 33,
   "id": "d6cfecee",
   "metadata": {},
   "outputs": [
    {
     "data": {
      "text/plain": [
       "'i'"
      ]
     },
     "execution_count": 33,
     "metadata": {},
     "output_type": "execute_result"
    }
   ],
   "source": [
    "a[-10]"
   ]
  },
  {
   "cell_type": "code",
   "execution_count": 34,
   "id": "b624c559",
   "metadata": {},
   "outputs": [
    {
     "data": {
      "text/plain": [
       "''"
      ]
     },
     "execution_count": 34,
     "metadata": {},
     "output_type": "execute_result"
    }
   ],
   "source": [
    "a[-1:-5]"
   ]
  },
  {
   "cell_type": "code",
   "execution_count": 35,
   "id": "687f36bf",
   "metadata": {},
   "outputs": [
    {
     "data": {
      "text/plain": [
       "''"
      ]
     },
     "execution_count": 35,
     "metadata": {},
     "output_type": "execute_result"
    }
   ],
   "source": [
    "a[-1:-7:1]"
   ]
  },
  {
   "cell_type": "code",
   "execution_count": 36,
   "id": "18142253",
   "metadata": {},
   "outputs": [
    {
     "data": {
      "text/plain": [
       "'ewal'"
      ]
     },
     "execution_count": 36,
     "metadata": {},
     "output_type": "execute_result"
    }
   ],
   "source": [
    "a[-1:-5:-1]"
   ]
  },
  {
   "cell_type": "code",
   "execution_count": 37,
   "id": "30130cac",
   "metadata": {},
   "outputs": [
    {
     "data": {
      "text/plain": [
       "'Sanika'"
      ]
     },
     "execution_count": 37,
     "metadata": {},
     "output_type": "execute_result"
    }
   ],
   "source": [
    "a[-8:-14:-1][::-1]"
   ]
  },
  {
   "cell_type": "code",
   "execution_count": 38,
   "id": "c83fbca6",
   "metadata": {},
   "outputs": [
    {
     "data": {
      "text/plain": [
       "''"
      ]
     },
     "execution_count": 38,
     "metadata": {},
     "output_type": "execute_result"
    }
   ],
   "source": [
    "a[-12:-7:-1]"
   ]
  },
  {
   "cell_type": "code",
   "execution_count": null,
   "id": "7c86d3e9",
   "metadata": {},
   "outputs": [],
   "source": []
  },
  {
   "cell_type": "code",
   "execution_count": null,
   "id": "805b47ef",
   "metadata": {},
   "outputs": [],
   "source": []
  }
 ],
 "metadata": {
  "kernelspec": {
   "display_name": "Python 3 (ipykernel)",
   "language": "python",
   "name": "python3"
  },
  "language_info": {
   "codemirror_mode": {
    "name": "ipython",
    "version": 3
   },
   "file_extension": ".py",
   "mimetype": "text/x-python",
   "name": "python",
   "nbconvert_exporter": "python",
   "pygments_lexer": "ipython3",
   "version": "3.9.13"
  }
 },
 "nbformat": 4,
 "nbformat_minor": 5
}
