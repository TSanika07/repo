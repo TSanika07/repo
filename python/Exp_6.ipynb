{
 "cells": [
  {
   "cell_type": "markdown",
   "id": "182402c1",
   "metadata": {},
   "source": [
    "# Expriment No 6\n",
    "## Sanika Tilawe\n",
    "### 25/5/2023\n",
    "#### if,if-elif,for,while"
   ]
  },
  {
   "cell_type": "code",
   "execution_count": 1,
   "id": "e5b355b0",
   "metadata": {},
   "outputs": [],
   "source": [
    "if 5>6:\n",
    "    print('Sanika')\n"
   ]
  },
  {
   "cell_type": "code",
   "execution_count": 2,
   "id": "c253cb25",
   "metadata": {},
   "outputs": [
    {
     "name": "stdout",
     "output_type": "stream",
     "text": [
      "sanika\n"
     ]
    }
   ],
   "source": [
    "if 6>5:\n",
    "    print('sanika')"
   ]
  },
  {
   "cell_type": "code",
   "execution_count": 3,
   "id": "4f66b627",
   "metadata": {},
   "outputs": [
    {
     "name": "stdout",
     "output_type": "stream",
     "text": [
      "Sanika\n"
     ]
    }
   ],
   "source": [
    "if 5==5:\n",
    "    print('Sanika')"
   ]
  },
  {
   "cell_type": "code",
   "execution_count": 4,
   "id": "4301fe5b",
   "metadata": {},
   "outputs": [
    {
     "name": "stdout",
     "output_type": "stream",
     "text": [
      "Hi\n"
     ]
    }
   ],
   "source": [
    "if True:\n",
    "    print('Hi')"
   ]
  },
  {
   "cell_type": "code",
   "execution_count": 5,
   "id": "5ea27594",
   "metadata": {},
   "outputs": [],
   "source": [
    "if False:\n",
    "    print('sanika')"
   ]
  },
  {
   "cell_type": "code",
   "execution_count": 6,
   "id": "04502e36",
   "metadata": {},
   "outputs": [],
   "source": [
    "if 4==5:\n",
    "    print('hii')"
   ]
  },
  {
   "cell_type": "code",
   "execution_count": 1,
   "id": "45c4bd57",
   "metadata": {},
   "outputs": [],
   "source": [
    "if 10>20 and 20>10:\n",
    "    print('sanika')"
   ]
  },
  {
   "cell_type": "code",
   "execution_count": 14,
   "id": "e99a8178",
   "metadata": {},
   "outputs": [
    {
     "name": "stdout",
     "output_type": "stream",
     "text": [
      "sanika\n"
     ]
    }
   ],
   "source": [
    "if 10>20 or 20>10:\n",
    "    print('sanika')"
   ]
  },
  {
   "cell_type": "code",
   "execution_count": 1,
   "id": "6597700e",
   "metadata": {},
   "outputs": [
    {
     "name": "stdout",
     "output_type": "stream",
     "text": [
      "HI\n"
     ]
    }
   ],
   "source": [
    "if 5>4:\n",
    "    print('HI')\n",
    "else:\n",
    "    print('BYE')"
   ]
  },
  {
   "cell_type": "code",
   "execution_count": 16,
   "id": "59fd0273",
   "metadata": {},
   "outputs": [
    {
     "name": "stdout",
     "output_type": "stream",
     "text": [
      "bye\n"
     ]
    }
   ],
   "source": [
    "if 12>20 and 30>12:\n",
    "    print('Welcome to S.Y')\n",
    "else:\n",
    "    print('bye')"
   ]
  },
  {
   "cell_type": "code",
   "execution_count": 17,
   "id": "89e36627",
   "metadata": {},
   "outputs": [
    {
     "name": "stdout",
     "output_type": "stream",
     "text": [
      "bye\n"
     ]
    }
   ],
   "source": [
    "if 12>23:\n",
    "    print('hi')\n",
    "else:\n",
    "    print('bye')"
   ]
  },
  {
   "cell_type": "code",
   "execution_count": 18,
   "id": "6f63e8fd",
   "metadata": {},
   "outputs": [
    {
     "name": "stdout",
     "output_type": "stream",
     "text": [
      "Second hi\n"
     ]
    }
   ],
   "source": [
    "if 12>23:\n",
    "    print('hi')\n",
    "elif 22>21:\n",
    "    print('Second hi')\n",
    "else:\n",
    "    print('bye')"
   ]
  },
  {
   "cell_type": "code",
   "execution_count": 20,
   "id": "fc967ca9",
   "metadata": {},
   "outputs": [
    {
     "name": "stdout",
     "output_type": "stream",
     "text": [
      "Enter the marks:56\n",
      "Second class\n"
     ]
    }
   ],
   "source": [
    "marks=int(input('Enter the marks:'))\n",
    "if marks>=66 and marks<=100:\n",
    "    print('Distinction')\n",
    "elif marks>=60 and marks<=100:\n",
    "    print('First class')\n",
    "elif marks>=\n",
    "50 and marks<=100:\n",
    "    print('Second class')\n",
    "elif marks>=40 and marks<=100:\n",
    "    print('pass')\n",
    "elif marks>=0:\n",
    "    print('Fail')\n",
    "else:\n",
    "    print('Wrong input')"
   ]
  },
  {
   "cell_type": "code",
   "execution_count": 21,
   "id": "21e23369",
   "metadata": {},
   "outputs": [],
   "source": [
    "data=[1,2,3,4,5,6]"
   ]
  },
  {
   "cell_type": "code",
   "execution_count": 22,
   "id": "d7e3f682",
   "metadata": {},
   "outputs": [
    {
     "data": {
      "text/plain": [
       "list"
      ]
     },
     "execution_count": 22,
     "metadata": {},
     "output_type": "execute_result"
    }
   ],
   "source": [
    "type(data)"
   ]
  },
  {
   "cell_type": "code",
   "execution_count": 23,
   "id": "4173b89c",
   "metadata": {},
   "outputs": [
    {
     "name": "stdout",
     "output_type": "stream",
     "text": [
      "GOOD\n",
      "GOOD\n",
      "GOOD\n",
      "GOOD\n",
      "GOOD\n",
      "GOOD\n"
     ]
    }
   ],
   "source": [
    "for x in data:\n",
    "    print('GOOD')"
   ]
  },
  {
   "cell_type": "code",
   "execution_count": 24,
   "id": "3d268110",
   "metadata": {},
   "outputs": [],
   "source": [
    "data1=['sanika','santosh','dhanshree','harshita']"
   ]
  },
  {
   "cell_type": "code",
   "execution_count": 26,
   "id": "3daa692a",
   "metadata": {},
   "outputs": [
    {
     "name": "stdout",
     "output_type": "stream",
     "text": [
      "mn\n",
      "mn\n",
      "mn\n",
      "mn\n"
     ]
    }
   ],
   "source": [
    "for mn in data1:\n",
    "    print('mn')"
   ]
  },
  {
   "cell_type": "code",
   "execution_count": 27,
   "id": "ec1faa4d",
   "metadata": {},
   "outputs": [
    {
     "name": "stdout",
     "output_type": "stream",
     "text": [
      "sanika\n",
      "santosh\n",
      "dhanshree\n",
      "harshita\n"
     ]
    }
   ],
   "source": [
    "for mn in data1:\n",
    "    print (mn)"
   ]
  },
  {
   "cell_type": "code",
   "execution_count": 28,
   "id": "939ada75",
   "metadata": {},
   "outputs": [],
   "source": [
    "data=[1,2,3,4,5,6]"
   ]
  },
  {
   "cell_type": "code",
   "execution_count": 29,
   "id": "5f36b186",
   "metadata": {},
   "outputs": [
    {
     "name": "stdout",
     "output_type": "stream",
     "text": [
      "1 2 3 4 5 6 "
     ]
    }
   ],
   "source": [
    "for x in data:\n",
    "    print(x,end=' ')"
   ]
  },
  {
   "cell_type": "code",
   "execution_count": 30,
   "id": "8b4c472a",
   "metadata": {},
   "outputs": [
    {
     "name": "stdout",
     "output_type": "stream",
     "text": [
      "sanika\n",
      "santosh\n",
      "dhanshree\n",
      "harshita\n"
     ]
    }
   ],
   "source": [
    "for mn in data1:\n",
    "    print (mn)"
   ]
  },
  {
   "cell_type": "code",
   "execution_count": 31,
   "id": "27436c39",
   "metadata": {},
   "outputs": [
    {
     "data": {
      "text/plain": [
       "[1, 2, 3, 4, 5, 6]"
      ]
     },
     "execution_count": 31,
     "metadata": {},
     "output_type": "execute_result"
    }
   ],
   "source": [
    "data"
   ]
  },
  {
   "cell_type": "code",
   "execution_count": 32,
   "id": "7197d9d4",
   "metadata": {},
   "outputs": [
    {
     "data": {
      "text/plain": [
       "[2, 3, 4]"
      ]
     },
     "execution_count": 32,
     "metadata": {},
     "output_type": "execute_result"
    }
   ],
   "source": [
    "data[1:4]"
   ]
  },
  {
   "cell_type": "code",
   "execution_count": 33,
   "id": "b5896ae8",
   "metadata": {},
   "outputs": [
    {
     "name": "stdout",
     "output_type": "stream",
     "text": [
      "2\n",
      "3\n",
      "4\n"
     ]
    }
   ],
   "source": [
    "for x in data[1:4]:\n",
    "    print(x)"
   ]
  },
  {
   "cell_type": "code",
   "execution_count": 34,
   "id": "928e78ab",
   "metadata": {},
   "outputs": [
    {
     "data": {
      "text/plain": [
       "[1, 2, 3, 4, 5, 6]"
      ]
     },
     "execution_count": 34,
     "metadata": {},
     "output_type": "execute_result"
    }
   ],
   "source": [
    "data"
   ]
  },
  {
   "cell_type": "code",
   "execution_count": 35,
   "id": "70a4b11a",
   "metadata": {},
   "outputs": [
    {
     "name": "stdout",
     "output_type": "stream",
     "text": [
      "2\n",
      "4\n",
      "6\n",
      "8\n",
      "10\n",
      "12\n"
     ]
    }
   ],
   "source": [
    "for x in data:\n",
    "    print(x+x)"
   ]
  },
  {
   "cell_type": "code",
   "execution_count": 36,
   "id": "4f74d6c4",
   "metadata": {},
   "outputs": [
    {
     "name": "stdout",
     "output_type": "stream",
     "text": [
      "1\n",
      "4\n",
      "9\n",
      "16\n",
      "25\n",
      "36\n"
     ]
    }
   ],
   "source": [
    "for x in data:\n",
    "    print(x*x)"
   ]
  },
  {
   "cell_type": "code",
   "execution_count": 37,
   "id": "b9b4d97d",
   "metadata": {},
   "outputs": [
    {
     "name": "stdout",
     "output_type": "stream",
     "text": [
      "hi bye\n",
      "hi bye\n",
      "hi bye\n",
      "hi bye\n",
      "hi bye\n",
      "hi bye\n"
     ]
    }
   ],
   "source": [
    "for x in data:\n",
    "    print('hi '+'bye')"
   ]
  },
  {
   "cell_type": "code",
   "execution_count": 38,
   "id": "cb0f30cd",
   "metadata": {},
   "outputs": [
    {
     "name": "stdout",
     "output_type": "stream",
     "text": [
      "hi bye,hi bye,hi bye,hi bye,hi bye,hi bye,"
     ]
    }
   ],
   "source": [
    "for x in data:\n",
    "    print('hi '+'bye',end=',')"
   ]
  },
  {
   "cell_type": "markdown",
   "id": "90a792e3",
   "metadata": {},
   "source": [
    "### while"
   ]
  },
  {
   "cell_type": "code",
   "execution_count": 22,
   "id": "a5608db2",
   "metadata": {},
   "outputs": [
    {
     "name": "stdout",
     "output_type": "stream",
     "text": [
      "1\n",
      "2\n",
      "3\n",
      "4\n",
      "5\n",
      "6\n",
      "7\n",
      "8\n",
      "9\n",
      "10\n"
     ]
    }
   ],
   "source": [
    "i=1\n",
    "while i<=10:\n",
    "    print(i)\n",
    "    i=i+1"
   ]
  },
  {
   "cell_type": "code",
   "execution_count": 24,
   "id": "0d571321",
   "metadata": {},
   "outputs": [
    {
     "name": "stdout",
     "output_type": "stream",
     "text": [
      "10\n",
      "9\n",
      "8\n",
      "7\n",
      "6\n",
      "5\n",
      "4\n",
      "3\n",
      "2\n",
      "1\n"
     ]
    }
   ],
   "source": [
    "i=10\n",
    "while i>=1:\n",
    "    print(i)\n",
    "    i=i-1"
   ]
  },
  {
   "cell_type": "code",
   "execution_count": null,
   "id": "1ae51f56",
   "metadata": {},
   "outputs": [],
   "source": []
  }
 ],
 "metadata": {
  "kernelspec": {
   "display_name": "Python 3 (ipykernel)",
   "language": "python",
   "name": "python3"
  },
  "language_info": {
   "codemirror_mode": {
    "name": "ipython",
    "version": 3
   },
   "file_extension": ".py",
   "mimetype": "text/x-python",
   "name": "python",
   "nbconvert_exporter": "python",
   "pygments_lexer": "ipython3",
   "version": "3.9.13"
  }
 },
 "nbformat": 4,
 "nbformat_minor": 5
}
