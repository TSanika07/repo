{
 "cells": [
  {
   "cell_type": "markdown",
   "id": "b554507b",
   "metadata": {},
   "source": [
    "# Expriment No 6\n",
    "## Sanika Tilawe\n",
    "### 25/5/2023\n",
    "#### if,if-elif,for,while"
   ]
  },
  {
   "cell_type": "code",
   "execution_count": 2,
   "id": "e5b355b0",
   "metadata": {},
   "outputs": [],
   "source": [
    "if 5>6:\n",
    "    print('Sanika')\n"
   ]
  },
  {
   "cell_type": "code",
   "execution_count": 4,
   "id": "c253cb25",
   "metadata": {},
   "outputs": [
    {
     "name": "stdout",
     "output_type": "stream",
     "text": [
      "sanika\n"
     ]
    }
   ],
   "source": [
    "if 6>5:\n",
    "    print('sanika')"
   ]
  },
  {
   "cell_type": "code",
   "execution_count": 5,
   "id": "4f66b627",
   "metadata": {},
   "outputs": [
    {
     "name": "stdout",
     "output_type": "stream",
     "text": [
      "Sanika\n"
     ]
    }
   ],
   "source": [
    "if 5==5:\n",
    "    print('Sanika')"
   ]
  },
  {
   "cell_type": "code",
   "execution_count": 6,
   "id": "4301fe5b",
   "metadata": {},
   "outputs": [
    {
     "name": "stdout",
     "output_type": "stream",
     "text": [
      "Hi\n"
     ]
    }
   ],
   "source": [
    "if True:\n",
    "    print('Hi')"
   ]
  },
  {
   "cell_type": "code",
   "execution_count": 7,
   "id": "5ea27594",
   "metadata": {},
   "outputs": [],
   "source": [
    "if False:\n",
    "    print('sanika')"
   ]
  },
  {
   "cell_type": "code",
   "execution_count": 8,
   "id": "04502e36",
   "metadata": {},
   "outputs": [],
   "source": [
    "if 4==5:\n",
    "    print('hii')"
   ]
  },
  {
   "cell_type": "code",
   "execution_count": 9,
   "id": "45c4bd57",
   "metadata": {},
   "outputs": [],
   "source": [
    "if 10>20 and 20>10:\n",
    "    print('sanika')"
   ]
  },
  {
   "cell_type": "code",
   "execution_count": 10,
   "id": "e99a8178",
   "metadata": {},
   "outputs": [
    {
     "name": "stdout",
     "output_type": "stream",
     "text": [
      "sanika\n"
     ]
    }
   ],
   "source": [
    "if 10>20 or 20>10:\n",
    "    print('sanika')"
   ]
  },
  {
   "cell_type": "code",
   "execution_count": 11,
   "id": "6597700e",
   "metadata": {},
   "outputs": [
    {
     "name": "stdout",
     "output_type": "stream",
     "text": [
      "hi\n"
     ]
    }
   ],
   "source": [
    "if 5>4:\n",
    "    print('hi')\n",
    "else:\n",
    "    print('BYE')"
   ]
  },
  {
   "cell_type": "code",
   "execution_count": 12,
   "id": "59fd0273",
   "metadata": {},
   "outputs": [
    {
     "name": "stdout",
     "output_type": "stream",
     "text": [
      "bye\n"
     ]
    }
   ],
   "source": [
    "if 12>20 and 30>12:\n",
    "    print('Welcome to S.Y')\n",
    "else:\n",
    "    print('bye')"
   ]
  },
  {
   "cell_type": "code",
   "execution_count": 13,
   "id": "89e36627",
   "metadata": {},
   "outputs": [
    {
     "name": "stdout",
     "output_type": "stream",
     "text": [
      "bye\n"
     ]
    }
   ],
   "source": [
    "if 12>23:\n",
    "    print('hi')\n",
    "else:\n",
    "    print('bye')"
   ]
  },
  {
   "cell_type": "code",
   "execution_count": 14,
   "id": "6f63e8fd",
   "metadata": {},
   "outputs": [
    {
     "name": "stdout",
     "output_type": "stream",
     "text": [
      "Second hi\n"
     ]
    }
   ],
   "source": [
    "if 12>23:\n",
    "    print('hi')\n",
    "elif 22>21:\n",
    "    print('Second hi')\n",
    "else:\n",
    "    print('bye')"
   ]
  },
  {
   "cell_type": "code",
   "execution_count": 15,
   "id": "fc967ca9",
   "metadata": {},
   "outputs": [
    {
     "name": "stdout",
     "output_type": "stream",
     "text": [
      "Enter the marks:45\n",
      "pass\n"
     ]
    }
   ],
   "source": [
    "marks=int(input('Enter the marks:'))\n",
    "if marks>=66 and marks<=100:\n",
    "    print('Distinction')\n",
    "elif marks>=60 and marks<=100:\n",
    "    print('First class')\n",
    "elif marks>=50 and marks<=100:\n",
    "    print('Second class')\n",
    "elif marks>=40 and marks<=100:\n",
    "    print('pass')\n",
    "elif marks>=0:\n",
    "    print('Fail')\n",
    "else:\n",
    "    print('Wrong input')"
   ]
  },
  {
   "cell_type": "code",
   "execution_count": null,
   "id": "c45a9fcb",
   "metadata": {},
   "outputs": [],
   "source": [
    "data=[1,2,3,4,5,6]"
   ]
  },
  {
   "cell_type": "code",
   "execution_count": 13,
   "id": "66f218d2",
   "metadata": {},
   "outputs": [
    {
     "data": {
      "text/plain": [
       "list"
      ]
     },
     "execution_count": 13,
     "metadata": {},
     "output_type": "execute_result"
    }
   ],
   "source": [
    "type(data)"
   ]
  },
  {
   "cell_type": "code",
   "execution_count": 14,
   "id": "a34f1c05",
   "metadata": {},
   "outputs": [
    {
     "name": "stdout",
     "output_type": "stream",
     "text": [
      "GOOD\n",
      "GOOD\n",
      "GOOD\n",
      "GOOD\n",
      "GOOD\n",
      "GOOD\n"
     ]
    }
   ],
   "source": [
    "for x in data:\n",
    "    print('GOOD')"
   ]
  },
  {
   "cell_type": "code",
   "execution_count": 1,
   "id": "3d268110",
   "metadata": {},
   "outputs": [],
   "source": [
    "data1=['sanika','santosh','dhanshree','harshita']"
   ]
  },
  {
   "cell_type": "code",
   "execution_count": 25,
   "id": "d02f9a76",
   "metadata": {},
   "outputs": [
    {
     "ename": "SyntaxError",
     "evalue": "invalid syntax (2770604750.py, line 1)",
     "output_type": "error",
     "traceback": [
      "\u001b[1;36m  File \u001b[1;32m\"C:\\Users\\Sanika\\AppData\\Local\\Temp\\ipykernel_19168\\2770604750.py\"\u001b[1;36m, line \u001b[1;32m1\u001b[0m\n\u001b[1;33m    foe mn in data1:\u001b[0m\n\u001b[1;37m        ^\u001b[0m\n\u001b[1;31mSyntaxError\u001b[0m\u001b[1;31m:\u001b[0m invalid syntax\n"
     ]
    }
   ],
   "source": [
    "foe mn in data1:\n",
    "    print('mn')"
   ]
  },
  {
   "cell_type": "code",
   "execution_count": 3,
   "id": "1cffb40b",
   "metadata": {},
   "outputs": [
    {
     "name": "stdout",
     "output_type": "stream",
     "text": [
      "sanika\n",
      "santosh\n",
      "dhanshree\n",
      "harshita\n"
     ]
    }
   ],
   "source": [
    "for mn in data1:\n",
    "    print (mn)"
   ]
  },
  {
   "cell_type": "code",
   "execution_count": 5,
   "id": "a87c629e",
   "metadata": {},
   "outputs": [],
   "source": [
    "data=[1,2,3,4,5,6]"
   ]
  },
  {
   "cell_type": "code",
   "execution_count": 6,
   "id": "c50f0d06",
   "metadata": {},
   "outputs": [
    {
     "name": "stdout",
     "output_type": "stream",
     "text": [
      "1 2 3 4 5 6 "
     ]
    }
   ],
   "source": [
    "for x in data:\n",
    "    print(x,end=' ')"
   ]
  },
  {
   "cell_type": "code",
   "execution_count": 7,
   "id": "401be073",
   "metadata": {},
   "outputs": [
    {
     "name": "stdout",
     "output_type": "stream",
     "text": [
      "1****2****3****4****5****6****"
     ]
    }
   ],
   "source": [
    "for x in data:\n",
    "    print(x,end='****')"
   ]
  },
  {
   "cell_type": "code",
   "execution_count": 8,
   "id": "b196a1fb",
   "metadata": {},
   "outputs": [
    {
     "data": {
      "text/plain": [
       "[1, 2, 3, 4, 5, 6]"
      ]
     },
     "execution_count": 8,
     "metadata": {},
     "output_type": "execute_result"
    }
   ],
   "source": [
    "data"
   ]
  },
  {
   "cell_type": "code",
   "execution_count": 9,
   "id": "0c16a2aa",
   "metadata": {},
   "outputs": [
    {
     "data": {
      "text/plain": [
       "[2, 3, 4]"
      ]
     },
     "execution_count": 9,
     "metadata": {},
     "output_type": "execute_result"
    }
   ],
   "source": [
    "data[1:4]"
   ]
  },
  {
   "cell_type": "code",
   "execution_count": 10,
   "id": "600a6b96",
   "metadata": {},
   "outputs": [
    {
     "name": "stdout",
     "output_type": "stream",
     "text": [
      "2\n",
      "3\n",
      "4\n"
     ]
    }
   ],
   "source": [
    "for x in data[1:4]:\n",
    "    print(x)"
   ]
  },
  {
   "cell_type": "code",
   "execution_count": 11,
   "id": "48245319",
   "metadata": {},
   "outputs": [
    {
     "data": {
      "text/plain": [
       "[1, 2, 3, 4, 5, 6]"
      ]
     },
     "execution_count": 11,
     "metadata": {},
     "output_type": "execute_result"
    }
   ],
   "source": [
    "data"
   ]
  },
  {
   "cell_type": "code",
   "execution_count": 12,
   "id": "a469467d",
   "metadata": {},
   "outputs": [
    {
     "name": "stdout",
     "output_type": "stream",
     "text": [
      "2\n",
      "4\n",
      "6\n",
      "8\n",
      "10\n",
      "12\n"
     ]
    }
   ],
   "source": [
    "for x in data:\n",
    "    print(x+x)"
   ]
  },
  {
   "cell_type": "code",
   "execution_count": 16,
   "id": "2ad133b4",
   "metadata": {},
   "outputs": [
    {
     "name": "stdout",
     "output_type": "stream",
     "text": [
      "1\n",
      "4\n",
      "9\n",
      "16\n",
      "25\n",
      "36\n"
     ]
    }
   ],
   "source": [
    "for x in data:\n",
    "    print(x*x)"
   ]
  },
  {
   "cell_type": "code",
   "execution_count": 18,
   "id": "aafadb2a",
   "metadata": {},
   "outputs": [
    {
     "name": "stdout",
     "output_type": "stream",
     "text": [
      "hi bye\n",
      "hi bye\n",
      "hi bye\n",
      "hi bye\n",
      "hi bye\n",
      "hi bye\n"
     ]
    }
   ],
   "source": [
    "for x in data:\n",
    "    print('hi '+'bye')"
   ]
  },
  {
   "cell_type": "code",
   "execution_count": 19,
   "id": "13642961",
   "metadata": {},
   "outputs": [
    {
     "name": "stdout",
     "output_type": "stream",
     "text": [
      "hi bye,hi bye,hi bye,hi bye,hi bye,hi bye,"
     ]
    }
   ],
   "source": [
    "for x in data:\n",
    "    print('hi '+'bye',end=',')"
   ]
  },
  {
   "cell_type": "markdown",
   "id": "9b03ae5b",
   "metadata": {},
   "source": [
    "### while"
   ]
  },
  {
   "cell_type": "code",
   "execution_count": 22,
   "id": "bf7ddbd3",
   "metadata": {},
   "outputs": [
    {
     "name": "stdout",
     "output_type": "stream",
     "text": [
      "1\n",
      "2\n",
      "3\n",
      "4\n",
      "5\n",
      "6\n",
      "7\n",
      "8\n",
      "9\n",
      "10\n"
     ]
    }
   ],
   "source": [
    "i=1\n",
    "while i<=10:\n",
    "    print(i)\n",
    "    i=i+1"
   ]
  },
  {
   "cell_type": "code",
   "execution_count": 24,
   "id": "2ac72fb5",
   "metadata": {},
   "outputs": [
    {
     "name": "stdout",
     "output_type": "stream",
     "text": [
      "10\n",
      "9\n",
      "8\n",
      "7\n",
      "6\n",
      "5\n",
      "4\n",
      "3\n",
      "2\n",
      "1\n"
     ]
    }
   ],
   "source": [
    "i=10\n",
    "while i>=1:\n",
    "    print(i)\n",
    "    i=i-1"
   ]
  },
  {
   "cell_type": "code",
   "execution_count": null,
   "id": "9c1d114d",
   "metadata": {},
   "outputs": [],
   "source": []
  }
 ],
 "metadata": {
  "kernelspec": {
   "display_name": "Python 3 (ipykernel)",
   "language": "python",
   "name": "python3"
  },
  "language_info": {
   "codemirror_mode": {
    "name": "ipython",
    "version": 3
   },
   "file_extension": ".py",
   "mimetype": "text/x-python",
   "name": "python",
   "nbconvert_exporter": "python",
   "pygments_lexer": "ipython3",
   "version": "3.9.13"
  }
 },
 "nbformat": 4,
 "nbformat_minor": 5
}
