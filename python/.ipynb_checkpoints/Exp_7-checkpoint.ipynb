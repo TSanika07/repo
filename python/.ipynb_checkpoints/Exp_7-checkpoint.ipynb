{
 "cells": [
  {
   "cell_type": "markdown",
   "id": "ad19787c",
   "metadata": {},
   "source": [
    "# Expriment No 7\n",
    "## Sanika Tilawe\n",
    "### 7/6/2023\n",
    "#### Union ,Intersection,Area\n"
   ]
  },
  {
   "cell_type": "markdown",
   "id": "b99fc399",
   "metadata": {},
   "source": [
    "# Area of triangle"
   ]
  },
  {
   "cell_type": "code",
   "execution_count": 1,
   "id": "20148e19",
   "metadata": {},
   "outputs": [
    {
     "name": "stdout",
     "output_type": "stream",
     "text": [
      "1305.0\n"
     ]
    }
   ],
   "source": [
    "height=45\n",
    "base=58\n",
    "print(1/2*height*base)"
   ]
  },
  {
   "cell_type": "code",
   "execution_count": 20,
   "id": "75e8dc3d",
   "metadata": {},
   "outputs": [
    {
     "name": "stdout",
     "output_type": "stream",
     "text": [
      "enter the height:12\n",
      "enter the base:6\n"
     ]
    },
    {
     "data": {
      "text/plain": [
       "36.0"
      ]
     },
     "execution_count": 20,
     "metadata": {},
     "output_type": "execute_result"
    }
   ],
   "source": [
    "height=float(input('enter the height:'))\n",
    "base=float(input('enter the base:'))\n",
    "area=1/2*height*base\n",
    "area\n"
   ]
  },
  {
   "cell_type": "code",
   "execution_count": 21,
   "id": "ef5b1e69",
   "metadata": {
    "scrolled": true
   },
   "outputs": [
    {
     "data": {
      "text/plain": [
       "36.0"
      ]
     },
     "execution_count": 21,
     "metadata": {},
     "output_type": "execute_result"
    }
   ],
   "source": [
    "area"
   ]
  },
  {
   "cell_type": "markdown",
   "id": "99871f7b",
   "metadata": {},
   "source": [
    "# Area of rectangle"
   ]
  },
  {
   "cell_type": "code",
   "execution_count": 14,
   "id": "8307a885",
   "metadata": {},
   "outputs": [
    {
     "name": "stdout",
     "output_type": "stream",
     "text": [
      "2520\n"
     ]
    }
   ],
   "source": [
    "l=45\n",
    "b=56\n",
    "print(l*b)\n"
   ]
  },
  {
   "cell_type": "code",
   "execution_count": 19,
   "id": "a91f4c6c",
   "metadata": {},
   "outputs": [
    {
     "name": "stdout",
     "output_type": "stream",
     "text": [
      "enter your length:12\n",
      "enter your breadth:2\n"
     ]
    },
    {
     "data": {
      "text/plain": [
       "24.0"
      ]
     },
     "execution_count": 19,
     "metadata": {},
     "output_type": "execute_result"
    }
   ],
   "source": [
    "length=float(input('enter your length:'))\n",
    "breadth=float(input('enter your breadth:'))\n",
    "area=length*breadth\n",
    "area\n"
   ]
  },
  {
   "cell_type": "markdown",
   "id": "3747dca8",
   "metadata": {},
   "source": [
    "# Area of Circle"
   ]
  },
  {
   "cell_type": "code",
   "execution_count": 16,
   "id": "788bf210",
   "metadata": {},
   "outputs": [
    {
     "name": "stdout",
     "output_type": "stream",
     "text": [
      "452.57142857142856\n"
     ]
    }
   ],
   "source": [
    "radius=12\n",
    "print(22/7*radius*radius)"
   ]
  },
  {
   "cell_type": "code",
   "execution_count": 23,
   "id": "bed147a8",
   "metadata": {},
   "outputs": [
    {
     "name": "stdout",
     "output_type": "stream",
     "text": [
      "enter the radius12\n"
     ]
    },
    {
     "data": {
      "text/plain": [
       "452.57142857142856"
      ]
     },
     "execution_count": 23,
     "metadata": {},
     "output_type": "execute_result"
    }
   ],
   "source": [
    "radius=float(input('enter the radius'))\n",
    "area=22/7*radius*radius\n",
    "area"
   ]
  },
  {
   "cell_type": "markdown",
   "id": "28c37f36",
   "metadata": {},
   "source": [
    "# Union"
   ]
  },
  {
   "cell_type": "code",
   "execution_count": 13,
   "id": "ecd3cfa6",
   "metadata": {},
   "outputs": [],
   "source": [
    "list1=[1,2,3,4,5,11,56,7,8,9]"
   ]
  },
  {
   "cell_type": "code",
   "execution_count": 22,
   "id": "bfd2c075",
   "metadata": {},
   "outputs": [],
   "source": [
    "list2=[2,3,5,6,1,12,45]"
   ]
  },
  {
   "cell_type": "code",
   "execution_count": 23,
   "id": "7eb42d52",
   "metadata": {},
   "outputs": [
    {
     "data": {
      "text/plain": [
       "{1, 2, 3, 4, 5, 6, 7, 8, 9, 11, 12, 45, 56}"
      ]
     },
     "execution_count": 23,
     "metadata": {},
     "output_type": "execute_result"
    }
   ],
   "source": [
    "a=set(list1)\n",
    "b=set(list2)\n",
    "b.union(a)"
   ]
  },
  {
   "cell_type": "markdown",
   "id": "0ebf63a4",
   "metadata": {},
   "source": [
    "# Intersection"
   ]
  },
  {
   "cell_type": "code",
   "execution_count": 24,
   "id": "7037f5a4",
   "metadata": {},
   "outputs": [],
   "source": [
    "list3=[1,2,3,4,5,11,56,7,8,9]"
   ]
  },
  {
   "cell_type": "code",
   "execution_count": 25,
   "id": "05b11aa2",
   "metadata": {},
   "outputs": [],
   "source": [
    "list4=[2,3,5,6,1,12,45]"
   ]
  },
  {
   "cell_type": "code",
   "execution_count": 26,
   "id": "1bc27674",
   "metadata": {},
   "outputs": [
    {
     "data": {
      "text/plain": [
       "{1, 2, 3, 5}"
      ]
     },
     "execution_count": 26,
     "metadata": {},
     "output_type": "execute_result"
    }
   ],
   "source": [
    "a=set(list3)\n",
    "b=set(list4)\n",
    "b.intersection(a)"
   ]
  },
  {
   "cell_type": "code",
   "execution_count": null,
   "id": "c4f3b240",
   "metadata": {},
   "outputs": [],
   "source": []
  },
  {
   "cell_type": "code",
   "execution_count": null,
   "id": "cf3ee109",
   "metadata": {},
   "outputs": [],
   "source": []
  }
 ],
 "metadata": {
  "kernelspec": {
   "display_name": "Python 3 (ipykernel)",
   "language": "python",
   "name": "python3"
  },
  "language_info": {
   "codemirror_mode": {
    "name": "ipython",
    "version": 3
   },
   "file_extension": ".py",
   "mimetype": "text/x-python",
   "name": "python",
   "nbconvert_exporter": "python",
   "pygments_lexer": "ipython3",
   "version": "3.9.13"
  }
 },
 "nbformat": 4,
 "nbformat_minor": 5
}
