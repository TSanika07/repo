{
 "cells": [
  {
   "cell_type": "markdown",
   "id": "e118332f",
   "metadata": {},
   "source": [
    "# Expriment No 5\n",
    "## Sanika Dhanaji Tilawe\n",
    "### List, Dictionary\n",
    "#### 10/5/2023"
   ]
  },
  {
   "cell_type": "markdown",
   "id": "dde4e3d3",
   "metadata": {},
   "source": [
    "### List"
   ]
  },
  {
   "cell_type": "code",
   "execution_count": 18,
   "id": "844d8d71",
   "metadata": {},
   "outputs": [
    {
     "data": {
      "text/plain": [
       "[10, 20, 30]"
      ]
     },
     "execution_count": 18,
     "metadata": {},
     "output_type": "execute_result"
    }
   ],
   "source": [
    "[10,20,30]"
   ]
  },
  {
   "cell_type": "code",
   "execution_count": 19,
   "id": "b332bccd",
   "metadata": {},
   "outputs": [],
   "source": [
    "l1=[10,20,30]"
   ]
  },
  {
   "cell_type": "code",
   "execution_count": 20,
   "id": "1f9a4c9e",
   "metadata": {},
   "outputs": [
    {
     "data": {
      "text/plain": [
       "[10, 20, 30]"
      ]
     },
     "execution_count": 20,
     "metadata": {},
     "output_type": "execute_result"
    }
   ],
   "source": [
    "l1"
   ]
  },
  {
   "cell_type": "code",
   "execution_count": 21,
   "id": "7337e7f4",
   "metadata": {},
   "outputs": [],
   "source": [
    "l2=[10.10,20.20,30.30]"
   ]
  },
  {
   "cell_type": "code",
   "execution_count": 22,
   "id": "42e74158",
   "metadata": {},
   "outputs": [
    {
     "data": {
      "text/plain": [
       "[10.1, 20.2, 30.3]"
      ]
     },
     "execution_count": 22,
     "metadata": {},
     "output_type": "execute_result"
    }
   ],
   "source": [
    "l2"
   ]
  },
  {
   "cell_type": "code",
   "execution_count": 23,
   "id": "5f8b6ebb",
   "metadata": {},
   "outputs": [],
   "source": [
    "l3=['Sanika','Tilawe','Chimgoan']"
   ]
  },
  {
   "cell_type": "code",
   "execution_count": 24,
   "id": "91803f06",
   "metadata": {},
   "outputs": [
    {
     "data": {
      "text/plain": [
       "['Sanika', 'Tilawe', 'Chimgoan']"
      ]
     },
     "execution_count": 24,
     "metadata": {},
     "output_type": "execute_result"
    }
   ],
   "source": [
    "l3"
   ]
  },
  {
   "cell_type": "code",
   "execution_count": 25,
   "id": "aec91b74",
   "metadata": {},
   "outputs": [],
   "source": [
    "l4=[1,20,10.10,'Chimgoan']"
   ]
  },
  {
   "cell_type": "code",
   "execution_count": 26,
   "id": "c1d1c28d",
   "metadata": {},
   "outputs": [
    {
     "data": {
      "text/plain": [
       "[1, 20, 10.1, 'Chimgoan']"
      ]
     },
     "execution_count": 26,
     "metadata": {},
     "output_type": "execute_result"
    }
   ],
   "source": [
    "l4"
   ]
  },
  {
   "cell_type": "code",
   "execution_count": 27,
   "id": "5eb9c17b",
   "metadata": {},
   "outputs": [],
   "source": [
    "l5=[12,'Sanika',10.10,[25,'Tilawe',10.10]]"
   ]
  },
  {
   "cell_type": "code",
   "execution_count": 28,
   "id": "efacc6bd",
   "metadata": {},
   "outputs": [
    {
     "data": {
      "text/plain": [
       "[12, 'Sanika', 10.1, [25, 'Tilawe', 10.1]]"
      ]
     },
     "execution_count": 28,
     "metadata": {},
     "output_type": "execute_result"
    }
   ],
   "source": [
    "l5"
   ]
  },
  {
   "cell_type": "code",
   "execution_count": 29,
   "id": "5d2d5287",
   "metadata": {},
   "outputs": [
    {
     "data": {
      "text/plain": [
       "[10, 20, 30]"
      ]
     },
     "execution_count": 29,
     "metadata": {},
     "output_type": "execute_result"
    }
   ],
   "source": [
    "l1"
   ]
  },
  {
   "cell_type": "code",
   "execution_count": 30,
   "id": "84c397e0",
   "metadata": {},
   "outputs": [
    {
     "data": {
      "text/plain": [
       "20"
      ]
     },
     "execution_count": 30,
     "metadata": {},
     "output_type": "execute_result"
    }
   ],
   "source": [
    "l1[1]"
   ]
  },
  {
   "cell_type": "code",
   "execution_count": 31,
   "id": "a8d1d58d",
   "metadata": {},
   "outputs": [
    {
     "ename": "TypeError",
     "evalue": "'int' object is not subscriptable",
     "output_type": "error",
     "traceback": [
      "\u001b[1;31m---------------------------------------------------------------------------\u001b[0m",
      "\u001b[1;31mTypeError\u001b[0m                                 Traceback (most recent call last)",
      "\u001b[1;32m~\\AppData\\Local\\Temp\\ipykernel_6460\\3462892027.py\u001b[0m in \u001b[0;36m<module>\u001b[1;34m\u001b[0m\n\u001b[1;32m----> 1\u001b[1;33m \u001b[0ml1\u001b[0m\u001b[1;33m[\u001b[0m\u001b[1;36m1\u001b[0m\u001b[1;33m]\u001b[0m\u001b[1;33m[\u001b[0m\u001b[1;36m1\u001b[0m\u001b[1;33m]\u001b[0m\u001b[1;33m\u001b[0m\u001b[1;33m\u001b[0m\u001b[0m\n\u001b[0m",
      "\u001b[1;31mTypeError\u001b[0m: 'int' object is not subscriptable"
     ]
    }
   ],
   "source": [
    "l1[1][1]"
   ]
  },
  {
   "cell_type": "code",
   "execution_count": 32,
   "id": "27fc1c27",
   "metadata": {},
   "outputs": [
    {
     "data": {
      "text/plain": [
       "30.3"
      ]
     },
     "execution_count": 32,
     "metadata": {},
     "output_type": "execute_result"
    }
   ],
   "source": [
    "l2[2]"
   ]
  },
  {
   "cell_type": "code",
   "execution_count": 33,
   "id": "f3ce0301",
   "metadata": {},
   "outputs": [
    {
     "data": {
      "text/plain": [
       "'Chimgoan'"
      ]
     },
     "execution_count": 33,
     "metadata": {},
     "output_type": "execute_result"
    }
   ],
   "source": [
    "l3[2]"
   ]
  },
  {
   "cell_type": "code",
   "execution_count": 34,
   "id": "dae6a644",
   "metadata": {},
   "outputs": [
    {
     "data": {
      "text/plain": [
       "'mg'"
      ]
     },
     "execution_count": 34,
     "metadata": {},
     "output_type": "execute_result"
    }
   ],
   "source": [
    "l3[2][3:5]"
   ]
  },
  {
   "cell_type": "code",
   "execution_count": 35,
   "id": "208ed5c5",
   "metadata": {},
   "outputs": [
    {
     "data": {
      "text/plain": [
       "'mg'"
      ]
     },
     "execution_count": 35,
     "metadata": {},
     "output_type": "execute_result"
    }
   ],
   "source": [
    "l3[2][3:5][::-1][::-1]"
   ]
  },
  {
   "cell_type": "code",
   "execution_count": 36,
   "id": "604dc5a7",
   "metadata": {},
   "outputs": [
    {
     "data": {
      "text/plain": [
       "'gm'"
      ]
     },
     "execution_count": 36,
     "metadata": {},
     "output_type": "execute_result"
    }
   ],
   "source": [
    "l3[2][3:5][::-1]"
   ]
  },
  {
   "cell_type": "code",
   "execution_count": 37,
   "id": "e500929a",
   "metadata": {},
   "outputs": [
    {
     "data": {
      "text/plain": [
       "['Tilawe', 'Chimgoan']"
      ]
     },
     "execution_count": 37,
     "metadata": {},
     "output_type": "execute_result"
    }
   ],
   "source": [
    "l3[1:3]"
   ]
  },
  {
   "cell_type": "code",
   "execution_count": 38,
   "id": "ec19c8b0",
   "metadata": {},
   "outputs": [
    {
     "data": {
      "text/plain": [
       "['Tilawe', 'Chimgoan']"
      ]
     },
     "execution_count": 38,
     "metadata": {},
     "output_type": "execute_result"
    }
   ],
   "source": [
    "l3[1:]"
   ]
  },
  {
   "cell_type": "code",
   "execution_count": 39,
   "id": "bd9c8ddd",
   "metadata": {},
   "outputs": [
    {
     "data": {
      "text/plain": [
       "['Sanika', 'Tilawe']"
      ]
     },
     "execution_count": 39,
     "metadata": {},
     "output_type": "execute_result"
    }
   ],
   "source": [
    "l3[:2]"
   ]
  },
  {
   "cell_type": "code",
   "execution_count": 40,
   "id": "52762b92",
   "metadata": {},
   "outputs": [
    {
     "data": {
      "text/plain": [
       "20"
      ]
     },
     "execution_count": 40,
     "metadata": {},
     "output_type": "execute_result"
    }
   ],
   "source": [
    "l1[1]"
   ]
  },
  {
   "cell_type": "code",
   "execution_count": 41,
   "id": "d16d22f8",
   "metadata": {},
   "outputs": [
    {
     "data": {
      "text/plain": [
       "'20'"
      ]
     },
     "execution_count": 41,
     "metadata": {},
     "output_type": "execute_result"
    }
   ],
   "source": [
    "str(l1[1])"
   ]
  },
  {
   "cell_type": "code",
   "execution_count": 42,
   "id": "e1654609",
   "metadata": {},
   "outputs": [
    {
     "ename": "TypeError",
     "evalue": "'int' object is not subscriptable",
     "output_type": "error",
     "traceback": [
      "\u001b[1;31m---------------------------------------------------------------------------\u001b[0m",
      "\u001b[1;31mTypeError\u001b[0m                                 Traceback (most recent call last)",
      "\u001b[1;32m~\\AppData\\Local\\Temp\\ipykernel_6460\\875394358.py\u001b[0m in \u001b[0;36m<module>\u001b[1;34m\u001b[0m\n\u001b[1;32m----> 1\u001b[1;33m \u001b[0mstr\u001b[0m\u001b[1;33m(\u001b[0m\u001b[0ml1\u001b[0m\u001b[1;33m[\u001b[0m\u001b[1;36m1\u001b[0m\u001b[1;33m]\u001b[0m\u001b[1;33m[\u001b[0m\u001b[1;36m1\u001b[0m\u001b[1;33m]\u001b[0m\u001b[1;33m)\u001b[0m\u001b[1;33m\u001b[0m\u001b[1;33m\u001b[0m\u001b[0m\n\u001b[0m",
      "\u001b[1;31mTypeError\u001b[0m: 'int' object is not subscriptable"
     ]
    }
   ],
   "source": [
    "str(l1[1][1])"
   ]
  },
  {
   "cell_type": "code",
   "execution_count": 43,
   "id": "9fa0a2cd",
   "metadata": {},
   "outputs": [
    {
     "data": {
      "text/plain": [
       "[12, 'Sanika', 10.1, [25, 'Tilawe', 10.1]]"
      ]
     },
     "execution_count": 43,
     "metadata": {},
     "output_type": "execute_result"
    }
   ],
   "source": [
    "l5"
   ]
  },
  {
   "cell_type": "code",
   "execution_count": 44,
   "id": "910cde70",
   "metadata": {},
   "outputs": [
    {
     "data": {
      "text/plain": [
       "[25, 'Tilawe', 10.1]"
      ]
     },
     "execution_count": 44,
     "metadata": {},
     "output_type": "execute_result"
    }
   ],
   "source": [
    "l5[3]"
   ]
  },
  {
   "cell_type": "code",
   "execution_count": 45,
   "id": "0c6ccfa8",
   "metadata": {},
   "outputs": [
    {
     "data": {
      "text/plain": [
       "'Tilawe'"
      ]
     },
     "execution_count": 45,
     "metadata": {},
     "output_type": "execute_result"
    }
   ],
   "source": [
    "l5[3][1]"
   ]
  },
  {
   "cell_type": "code",
   "execution_count": 46,
   "id": "f7ec864d",
   "metadata": {},
   "outputs": [],
   "source": [
    "l5[3][1]='SETI'"
   ]
  },
  {
   "cell_type": "code",
   "execution_count": 47,
   "id": "8a7c4264",
   "metadata": {},
   "outputs": [
    {
     "data": {
      "text/plain": [
       "[12, 'Sanika', 10.1, [25, 'SETI', 10.1]]"
      ]
     },
     "execution_count": 47,
     "metadata": {},
     "output_type": "execute_result"
    }
   ],
   "source": [
    "l5"
   ]
  },
  {
   "cell_type": "code",
   "execution_count": 48,
   "id": "ff8d9954",
   "metadata": {},
   "outputs": [
    {
     "data": {
      "text/plain": [
       "10"
      ]
     },
     "execution_count": 48,
     "metadata": {},
     "output_type": "execute_result"
    }
   ],
   "source": [
    "l1[0]"
   ]
  },
  {
   "cell_type": "code",
   "execution_count": 49,
   "id": "e68a0524",
   "metadata": {},
   "outputs": [],
   "source": [
    "l1[0]='Sanjeevan'"
   ]
  },
  {
   "cell_type": "code",
   "execution_count": 50,
   "id": "5aab0820",
   "metadata": {},
   "outputs": [
    {
     "data": {
      "text/plain": [
       "['Sanjeevan', 20, 30]"
      ]
     },
     "execution_count": 50,
     "metadata": {},
     "output_type": "execute_result"
    }
   ],
   "source": [
    "l1"
   ]
  },
  {
   "cell_type": "code",
   "execution_count": 51,
   "id": "4f5e94ef",
   "metadata": {},
   "outputs": [],
   "source": [
    "l5.append('S.Y')"
   ]
  },
  {
   "cell_type": "code",
   "execution_count": 52,
   "id": "5075750a",
   "metadata": {},
   "outputs": [
    {
     "data": {
      "text/plain": [
       "[12, 'Sanika', 10.1, [25, 'SETI', 10.1], 'S.Y']"
      ]
     },
     "execution_count": 52,
     "metadata": {},
     "output_type": "execute_result"
    }
   ],
   "source": [
    "l5"
   ]
  },
  {
   "cell_type": "code",
   "execution_count": 53,
   "id": "eee899ae",
   "metadata": {},
   "outputs": [],
   "source": [
    "l6=l5.copy"
   ]
  },
  {
   "cell_type": "code",
   "execution_count": 54,
   "id": "bd83542b",
   "metadata": {},
   "outputs": [
    {
     "data": {
      "text/plain": [
       "<function list.copy()>"
      ]
     },
     "execution_count": 54,
     "metadata": {},
     "output_type": "execute_result"
    }
   ],
   "source": [
    "l6"
   ]
  },
  {
   "cell_type": "code",
   "execution_count": 55,
   "id": "e5342a2f",
   "metadata": {},
   "outputs": [
    {
     "ename": "TypeError",
     "evalue": "'str' object cannot be interpreted as an integer",
     "output_type": "error",
     "traceback": [
      "\u001b[1;31m---------------------------------------------------------------------------\u001b[0m",
      "\u001b[1;31mTypeError\u001b[0m                                 Traceback (most recent call last)",
      "\u001b[1;32m~\\AppData\\Local\\Temp\\ipykernel_6460\\2249180210.py\u001b[0m in \u001b[0;36m<module>\u001b[1;34m\u001b[0m\n\u001b[1;32m----> 1\u001b[1;33m \u001b[0ml5\u001b[0m\u001b[1;33m.\u001b[0m\u001b[0minsert\u001b[0m\u001b[1;33m(\u001b[0m\u001b[1;34m'1'\u001b[0m\u001b[1;33m,\u001b[0m\u001b[1;34m'Sanika'\u001b[0m\u001b[1;33m)\u001b[0m\u001b[1;33m\u001b[0m\u001b[1;33m\u001b[0m\u001b[0m\n\u001b[0m",
      "\u001b[1;31mTypeError\u001b[0m: 'str' object cannot be interpreted as an integer"
     ]
    }
   ],
   "source": [
    "l5.insert('1','Sanika')"
   ]
  },
  {
   "cell_type": "code",
   "execution_count": 56,
   "id": "2d192d46",
   "metadata": {},
   "outputs": [],
   "source": [
    "l5.reverse()"
   ]
  },
  {
   "cell_type": "code",
   "execution_count": 57,
   "id": "d4ce6399",
   "metadata": {},
   "outputs": [
    {
     "data": {
      "text/plain": [
       "['S.Y', [25, 'SETI', 10.1], 10.1, 'Sanika', 12]"
      ]
     },
     "execution_count": 57,
     "metadata": {},
     "output_type": "execute_result"
    }
   ],
   "source": [
    "l5"
   ]
  },
  {
   "cell_type": "code",
   "execution_count": 58,
   "id": "546d325e",
   "metadata": {},
   "outputs": [
    {
     "data": {
      "text/plain": [
       "1"
      ]
     },
     "execution_count": 58,
     "metadata": {},
     "output_type": "execute_result"
    }
   ],
   "source": [
    "l5.count('Sanika')"
   ]
  },
  {
   "cell_type": "code",
   "execution_count": 59,
   "id": "cb927763",
   "metadata": {},
   "outputs": [],
   "source": [
    "l5.append('Sanika')"
   ]
  },
  {
   "cell_type": "code",
   "execution_count": 60,
   "id": "ef2304a1",
   "metadata": {},
   "outputs": [
    {
     "data": {
      "text/plain": [
       "['S.Y', [25, 'SETI', 10.1], 10.1, 'Sanika', 12, 'Sanika']"
      ]
     },
     "execution_count": 60,
     "metadata": {},
     "output_type": "execute_result"
    }
   ],
   "source": [
    "l5"
   ]
  },
  {
   "cell_type": "code",
   "execution_count": 61,
   "id": "d763bf8b",
   "metadata": {},
   "outputs": [
    {
     "data": {
      "text/plain": [
       "2"
      ]
     },
     "execution_count": 61,
     "metadata": {},
     "output_type": "execute_result"
    }
   ],
   "source": [
    "l5.count(\"Sanika\")"
   ]
  },
  {
   "cell_type": "code",
   "execution_count": 62,
   "id": "7c61dd81",
   "metadata": {},
   "outputs": [],
   "source": [
    "l5.remove('Sanika')"
   ]
  },
  {
   "cell_type": "code",
   "execution_count": 63,
   "id": "b59edcfd",
   "metadata": {},
   "outputs": [
    {
     "data": {
      "text/plain": [
       "['S.Y', [25, 'SETI', 10.1], 10.1, 12, 'Sanika']"
      ]
     },
     "execution_count": 63,
     "metadata": {},
     "output_type": "execute_result"
    }
   ],
   "source": [
    "l5"
   ]
  },
  {
   "cell_type": "code",
   "execution_count": 64,
   "id": "5315cbbd",
   "metadata": {},
   "outputs": [
    {
     "data": {
      "text/plain": [
       "'Sanika'"
      ]
     },
     "execution_count": 64,
     "metadata": {},
     "output_type": "execute_result"
    }
   ],
   "source": [
    "l5.pop()"
   ]
  },
  {
   "cell_type": "markdown",
   "id": "9d4a2658",
   "metadata": {},
   "source": [
    "#### Dictionary"
   ]
  },
  {
   "cell_type": "code",
   "execution_count": 65,
   "id": "0f63f34d",
   "metadata": {},
   "outputs": [
    {
     "data": {
      "text/plain": [
       "{'Sanika': 100}"
      ]
     },
     "execution_count": 65,
     "metadata": {},
     "output_type": "execute_result"
    }
   ],
   "source": [
    "{'Sanika':100}"
   ]
  },
  {
   "cell_type": "code",
   "execution_count": 66,
   "id": "6c1937cc",
   "metadata": {},
   "outputs": [],
   "source": [
    "dict1={'Rohit':100}"
   ]
  },
  {
   "cell_type": "code",
   "execution_count": 67,
   "id": "577b2459",
   "metadata": {},
   "outputs": [
    {
     "data": {
      "text/plain": [
       "{'Rohit': 100}"
      ]
     },
     "execution_count": 67,
     "metadata": {},
     "output_type": "execute_result"
    }
   ],
   "source": [
    "dict1"
   ]
  },
  {
   "cell_type": "code",
   "execution_count": 68,
   "id": "c96c5bd1",
   "metadata": {},
   "outputs": [
    {
     "data": {
      "text/plain": [
       "dict"
      ]
     },
     "execution_count": 68,
     "metadata": {},
     "output_type": "execute_result"
    }
   ],
   "source": [
    "type(dict1)"
   ]
  },
  {
   "cell_type": "code",
   "execution_count": 69,
   "id": "0b78396d",
   "metadata": {},
   "outputs": [],
   "source": [
    "dict2={'Sachin':'MI','Dhoni':'MI1','Rohit':'CSK'}"
   ]
  },
  {
   "cell_type": "code",
   "execution_count": 70,
   "id": "1352c416",
   "metadata": {},
   "outputs": [
    {
     "data": {
      "text/plain": [
       "{'Sachin': 'MI', 'Dhoni': 'MI1', 'Rohit': 'CSK'}"
      ]
     },
     "execution_count": 70,
     "metadata": {},
     "output_type": "execute_result"
    }
   ],
   "source": [
    "dict2"
   ]
  },
  {
   "cell_type": "code",
   "execution_count": 71,
   "id": "574d331d",
   "metadata": {},
   "outputs": [
    {
     "data": {
      "text/plain": [
       "'MI'"
      ]
     },
     "execution_count": 71,
     "metadata": {},
     "output_type": "execute_result"
    }
   ],
   "source": [
    "dict2['Sachin']"
   ]
  },
  {
   "cell_type": "code",
   "execution_count": 72,
   "id": "73b5a31d",
   "metadata": {},
   "outputs": [
    {
     "data": {
      "text/plain": [
       "'MI1'"
      ]
     },
     "execution_count": 72,
     "metadata": {},
     "output_type": "execute_result"
    }
   ],
   "source": [
    "dict2['Dhoni']"
   ]
  },
  {
   "cell_type": "code",
   "execution_count": 73,
   "id": "1f26694e",
   "metadata": {},
   "outputs": [
    {
     "data": {
      "text/plain": [
       "'CSK'"
      ]
     },
     "execution_count": 73,
     "metadata": {},
     "output_type": "execute_result"
    }
   ],
   "source": [
    "dict2['Rohit']"
   ]
  },
  {
   "cell_type": "code",
   "execution_count": 74,
   "id": "dc807027",
   "metadata": {},
   "outputs": [
    {
     "data": {
      "text/plain": [
       "'1IM'"
      ]
     },
     "execution_count": 74,
     "metadata": {},
     "output_type": "execute_result"
    }
   ],
   "source": [
    "dict2['Dhoni'][::-1]"
   ]
  },
  {
   "cell_type": "code",
   "execution_count": 75,
   "id": "b2e08ecd",
   "metadata": {},
   "outputs": [],
   "source": [
    "dict2['Dhoni']=['CSK']"
   ]
  },
  {
   "cell_type": "code",
   "execution_count": 76,
   "id": "457a1fab",
   "metadata": {},
   "outputs": [
    {
     "data": {
      "text/plain": [
       "{'Sachin': 'MI', 'Dhoni': ['CSK'], 'Rohit': 'CSK'}"
      ]
     },
     "execution_count": 76,
     "metadata": {},
     "output_type": "execute_result"
    }
   ],
   "source": [
    "dict2"
   ]
  },
  {
   "cell_type": "code",
   "execution_count": 77,
   "id": "8718adda",
   "metadata": {},
   "outputs": [],
   "source": [
    "dict2['Rohit']=['MI']"
   ]
  },
  {
   "cell_type": "code",
   "execution_count": 78,
   "id": "91f0ad00",
   "metadata": {},
   "outputs": [
    {
     "data": {
      "text/plain": [
       "{'Sachin': 'MI', 'Dhoni': ['CSK'], 'Rohit': ['MI']}"
      ]
     },
     "execution_count": 78,
     "metadata": {},
     "output_type": "execute_result"
    }
   ],
   "source": [
    "dict2"
   ]
  },
  {
   "cell_type": "code",
   "execution_count": 79,
   "id": "f2a398e0",
   "metadata": {},
   "outputs": [],
   "source": [
    "dict3={'MI':['Rohit','Green'],'CSK':['Dhoni','Ruturaj','Jadeja']}"
   ]
  },
  {
   "cell_type": "code",
   "execution_count": 80,
   "id": "14c6b5a5",
   "metadata": {},
   "outputs": [
    {
     "data": {
      "text/plain": [
       "{'MI': ['Rohit', 'Green'], 'CSK': ['Dhoni', 'Ruturaj', 'Jadeja']}"
      ]
     },
     "execution_count": 80,
     "metadata": {},
     "output_type": "execute_result"
    }
   ],
   "source": [
    "dict3"
   ]
  },
  {
   "cell_type": "code",
   "execution_count": 81,
   "id": "5a226ed2",
   "metadata": {},
   "outputs": [
    {
     "data": {
      "text/plain": [
       "'Green'"
      ]
     },
     "execution_count": 81,
     "metadata": {},
     "output_type": "execute_result"
    }
   ],
   "source": [
    "dict3[\"MI\"][1]"
   ]
  },
  {
   "cell_type": "code",
   "execution_count": 82,
   "id": "eebd4ac3",
   "metadata": {},
   "outputs": [
    {
     "data": {
      "text/plain": [
       "'Ruturaj'"
      ]
     },
     "execution_count": 82,
     "metadata": {},
     "output_type": "execute_result"
    }
   ],
   "source": [
    "dict3['CSK'][1]"
   ]
  },
  {
   "cell_type": "code",
   "execution_count": 83,
   "id": "afa72517",
   "metadata": {},
   "outputs": [],
   "source": [
    "dict4={'MI':{'CSK':['Rohit','Green']}}"
   ]
  },
  {
   "cell_type": "code",
   "execution_count": 84,
   "id": "9167346d",
   "metadata": {},
   "outputs": [
    {
     "data": {
      "text/plain": [
       "{'MI': {'CSK': ['Rohit', 'Green']}}"
      ]
     },
     "execution_count": 84,
     "metadata": {},
     "output_type": "execute_result"
    }
   ],
   "source": [
    "dict4"
   ]
  },
  {
   "cell_type": "code",
   "execution_count": 85,
   "id": "d95271c8",
   "metadata": {},
   "outputs": [
    {
     "data": {
      "text/plain": [
       "{'CSK': ['Rohit', 'Green']}"
      ]
     },
     "execution_count": 85,
     "metadata": {},
     "output_type": "execute_result"
    }
   ],
   "source": [
    "dict4['MI']"
   ]
  },
  {
   "cell_type": "code",
   "execution_count": 86,
   "id": "c9121042",
   "metadata": {},
   "outputs": [
    {
     "data": {
      "text/plain": [
       "['Rohit', 'Green']"
      ]
     },
     "execution_count": 86,
     "metadata": {},
     "output_type": "execute_result"
    }
   ],
   "source": [
    "dict4['MI']['CSK']"
   ]
  },
  {
   "cell_type": "code",
   "execution_count": 87,
   "id": "5c869fee",
   "metadata": {},
   "outputs": [
    {
     "data": {
      "text/plain": [
       "{'MI': ['Rohit', 'Green'], 'CSK': ['Dhoni', 'Ruturaj', 'Jadeja']}"
      ]
     },
     "execution_count": 87,
     "metadata": {},
     "output_type": "execute_result"
    }
   ],
   "source": [
    "dict3"
   ]
  },
  {
   "cell_type": "code",
   "execution_count": 88,
   "id": "18649129",
   "metadata": {},
   "outputs": [
    {
     "data": {
      "text/plain": [
       "dict_keys(['MI', 'CSK'])"
      ]
     },
     "execution_count": 88,
     "metadata": {},
     "output_type": "execute_result"
    }
   ],
   "source": [
    "dict3.keys()"
   ]
  },
  {
   "cell_type": "code",
   "execution_count": 89,
   "id": "501b16ad",
   "metadata": {},
   "outputs": [
    {
     "data": {
      "text/plain": [
       "dict_values([['Rohit', 'Green'], ['Dhoni', 'Ruturaj', 'Jadeja']])"
      ]
     },
     "execution_count": 89,
     "metadata": {},
     "output_type": "execute_result"
    }
   ],
   "source": [
    "dict3.values()"
   ]
  },
  {
   "cell_type": "code",
   "execution_count": 90,
   "id": "da8f9f53",
   "metadata": {},
   "outputs": [
    {
     "data": {
      "text/plain": [
       "('CSK', ['Dhoni', 'Ruturaj', 'Jadeja'])"
      ]
     },
     "execution_count": 90,
     "metadata": {},
     "output_type": "execute_result"
    }
   ],
   "source": [
    "dict3.popitem()"
   ]
  },
  {
   "cell_type": "code",
   "execution_count": 91,
   "id": "e7fd4116",
   "metadata": {},
   "outputs": [
    {
     "data": {
      "text/plain": [
       "{'MI': ['Rohit', 'Green']}"
      ]
     },
     "execution_count": 91,
     "metadata": {},
     "output_type": "execute_result"
    }
   ],
   "source": [
    "dict3"
   ]
  },
  {
   "cell_type": "code",
   "execution_count": 93,
   "id": "03f7c166",
   "metadata": {},
   "outputs": [
    {
     "data": {
      "text/plain": [
       "['Rohit', 'Green']"
      ]
     },
     "execution_count": 93,
     "metadata": {},
     "output_type": "execute_result"
    }
   ],
   "source": [
    "dict3.pop('MI')"
   ]
  },
  {
   "cell_type": "code",
   "execution_count": 94,
   "id": "d8ddb582",
   "metadata": {},
   "outputs": [
    {
     "data": {
      "text/plain": [
       "{}"
      ]
     },
     "execution_count": 94,
     "metadata": {},
     "output_type": "execute_result"
    }
   ],
   "source": [
    "dict3"
   ]
  },
  {
   "cell_type": "code",
   "execution_count": 97,
   "id": "ade67ae6",
   "metadata": {},
   "outputs": [],
   "source": [
    "dict5=dict4.copy()"
   ]
  },
  {
   "cell_type": "code",
   "execution_count": 98,
   "id": "84ce9a86",
   "metadata": {},
   "outputs": [
    {
     "data": {
      "text/plain": [
       "{'MI': {'CSK': ['Rohit', 'Green']}}"
      ]
     },
     "execution_count": 98,
     "metadata": {},
     "output_type": "execute_result"
    }
   ],
   "source": [
    "dict5"
   ]
  },
  {
   "cell_type": "code",
   "execution_count": 99,
   "id": "2e6842f1",
   "metadata": {},
   "outputs": [],
   "source": [
    "dict5.update({'RCB':'Kohali'})"
   ]
  },
  {
   "cell_type": "code",
   "execution_count": 100,
   "id": "38ebca81",
   "metadata": {},
   "outputs": [
    {
     "data": {
      "text/plain": [
       "{'MI': {'CSK': ['Rohit', 'Green']}, 'RCB': 'Kohali'}"
      ]
     },
     "execution_count": 100,
     "metadata": {},
     "output_type": "execute_result"
    }
   ],
   "source": [
    "dict5"
   ]
  },
  {
   "cell_type": "code",
   "execution_count": null,
   "id": "9f40603c",
   "metadata": {},
   "outputs": [],
   "source": []
  }
 ],
 "metadata": {
  "kernelspec": {
   "display_name": "Python 3 (ipykernel)",
   "language": "python",
   "name": "python3"
  },
  "language_info": {
   "codemirror_mode": {
    "name": "ipython",
    "version": 3
   },
   "file_extension": ".py",
   "mimetype": "text/x-python",
   "name": "python",
   "nbconvert_exporter": "python",
   "pygments_lexer": "ipython3",
   "version": "3.9.13"
  }
 },
 "nbformat": 4,
 "nbformat_minor": 5
}
